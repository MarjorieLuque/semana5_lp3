{
 "cells": [
  {
   "cell_type": "markdown",
   "id": "c05748e4",
   "metadata": {},
   "source": [
    "# SEMANA5"
   ]
  },
  {
   "cell_type": "markdown",
   "id": "ea020556",
   "metadata": {},
   "source": [
    "TEMA;\n",
    "1-Coleccionnes de datos\n",
    "2-Estructuras desicivas yEstruturas repetitivas\n",
    "3-Clase y objeto\n",
    "4-Funciones"
   ]
  },
  {
   "cell_type": "markdown",
   "id": "95bf8be7",
   "metadata": {},
   "source": [
    "1. Coleciones de datos"
   ]
  },
  {
   "cell_type": "code",
   "execution_count": 1,
   "id": "d4d73020",
   "metadata": {},
   "outputs": [
    {
     "data": {
      "text/plain": [
       "('Marcani', 'Vegas', 'Gomes', 'Navarro')"
      ]
     },
     "execution_count": 1,
     "metadata": {},
     "output_type": "execute_result"
    }
   ],
   "source": [
    "tupla_aula =('Marcani','Vegas','Gomes','Navarro')\n",
    "tupla_aula"
   ]
  },
  {
   "cell_type": "code",
   "execution_count": 2,
   "id": "4ae94337",
   "metadata": {},
   "outputs": [
    {
     "data": {
      "text/plain": [
       "'Gomes'"
      ]
     },
     "execution_count": 2,
     "metadata": {},
     "output_type": "execute_result"
    }
   ],
   "source": [
    "tupla_aula[2]"
   ]
  },
  {
   "cell_type": "code",
   "execution_count": 4,
   "id": "d25c4510",
   "metadata": {},
   "outputs": [
    {
     "data": {
      "text/plain": [
       "4"
      ]
     },
     "execution_count": 4,
     "metadata": {},
     "output_type": "execute_result"
    }
   ],
   "source": [
    "len(tupla_aula)"
   ]
  },
  {
   "cell_type": "code",
   "execution_count": 8,
   "id": "6472ec89",
   "metadata": {},
   "outputs": [
    {
     "data": {
      "text/plain": [
       "{'Luque', 'Moreno', 'Pasaio', 'Ramo'}"
      ]
     },
     "execution_count": 8,
     "metadata": {},
     "output_type": "execute_result"
    }
   ],
   "source": [
    "#1.3 onjuntos \n",
    "#Es una olecion de elementos que no esta ordenado\n",
    "conjunto_aula={'Ramo','Moreno','Pasaio','Luque'}\n",
    "conjunto_aula"
   ]
  },
  {
   "cell_type": "code",
   "execution_count": 10,
   "id": "9ccfc34f",
   "metadata": {},
   "outputs": [
    {
     "name": "stdout",
     "output_type": "stream",
     "text": [
      "Moreno\n",
      "Luque\n",
      "Pasaio\n",
      "Ramo\n"
     ]
    }
   ],
   "source": [
    "for alumno in  conjunto_aula:\n",
    "   print(alumno)"
   ]
  },
  {
   "cell_type": "code",
   "execution_count": 35,
   "id": "d03e0026",
   "metadata": {},
   "outputs": [
    {
     "ename": "TypeError",
     "evalue": "'set' object is not subscriptable",
     "output_type": "error",
     "traceback": [
      "\u001b[1;31m---------------------------------------------------------------------------\u001b[0m",
      "\u001b[1;31mTypeError\u001b[0m                                 Traceback (most recent call last)",
      "Input \u001b[1;32mIn [35]\u001b[0m, in \u001b[0;36m<cell line: 2>\u001b[1;34m()\u001b[0m\n\u001b[0;32m      1\u001b[0m \u001b[38;5;66;03m##no se puede accedr a la posicionn\u001b[39;00m\n\u001b[1;32m----> 2\u001b[0m \u001b[43mconjunto_aula\u001b[49m\u001b[43m[\u001b[49m\u001b[38;5;241;43m2\u001b[39;49m\u001b[43m]\u001b[49m\n",
      "\u001b[1;31mTypeError\u001b[0m: 'set' object is not subscriptable"
     ]
    }
   ],
   "source": [
    "##no se puede accedr a la posicionn\n",
    "conjunto_aula[2]"
   ]
  },
  {
   "cell_type": "code",
   "execution_count": 14,
   "id": "eb27bd02",
   "metadata": {},
   "outputs": [
    {
     "data": {
      "text/plain": [
       "4"
      ]
     },
     "execution_count": 14,
     "metadata": {},
     "output_type": "execute_result"
    }
   ],
   "source": [
    "len(conjunto_aula)"
   ]
  },
  {
   "cell_type": "code",
   "execution_count": 16,
   "id": "8db1a6eb",
   "metadata": {},
   "outputs": [
    {
     "data": {
      "text/plain": [
       "{'Luque', 'Moreno', 'Muños', 'Pasaio', 'Ramo'}"
      ]
     },
     "execution_count": 16,
     "metadata": {},
     "output_type": "execute_result"
    }
   ],
   "source": [
    "conjunto_aula.add(\"Muños\")\n",
    "conjunto_aula"
   ]
  },
  {
   "cell_type": "code",
   "execution_count": 24,
   "id": "d18934f1",
   "metadata": {},
   "outputs": [
    {
     "ename": "KeyError",
     "evalue": "'Luque'",
     "output_type": "error",
     "traceback": [
      "\u001b[1;31m---------------------------------------------------------------------------\u001b[0m",
      "\u001b[1;31mKeyError\u001b[0m                                  Traceback (most recent call last)",
      "Input \u001b[1;32mIn [24]\u001b[0m, in \u001b[0;36m<cell line: 1>\u001b[1;34m()\u001b[0m\n\u001b[1;32m----> 1\u001b[0m \u001b[43mconjunto_aula\u001b[49m\u001b[38;5;241;43m.\u001b[39;49m\u001b[43mremove\u001b[49m\u001b[43m(\u001b[49m\u001b[38;5;124;43m\"\u001b[39;49m\u001b[38;5;124;43mLuque\u001b[39;49m\u001b[38;5;124;43m\"\u001b[39;49m\u001b[43m)\u001b[49m\n\u001b[0;32m      2\u001b[0m conjunto_aula\n",
      "\u001b[1;31mKeyError\u001b[0m: 'Luque'"
     ]
    }
   ],
   "source": [
    "conjunto_aula.remove(\"Luque\")\n",
    "conjunto_aula"
   ]
  },
  {
   "cell_type": "code",
   "execution_count": 25,
   "id": "9933d867",
   "metadata": {},
   "outputs": [
    {
     "data": {
      "text/plain": [
       "{'Moreno', 'Muños', 'Pasaio', 'Ramo'}"
      ]
     },
     "execution_count": 25,
     "metadata": {},
     "output_type": "execute_result"
    }
   ],
   "source": [
    "conjunto_aula"
   ]
  },
  {
   "cell_type": "code",
   "execution_count": 27,
   "id": "dd38499c",
   "metadata": {},
   "outputs": [],
   "source": [
    "diccionario_aula={2:'Muños','1':'Luque','dos':'Pascacio','3':'Navarro','0':'Ramo'}\n"
   ]
  },
  {
   "cell_type": "code",
   "execution_count": 28,
   "id": "c74a9d68",
   "metadata": {},
   "outputs": [
    {
     "data": {
      "text/plain": [
       "'Muños'"
      ]
     },
     "execution_count": 28,
     "metadata": {},
     "output_type": "execute_result"
    }
   ],
   "source": [
    "diccionario_aula[2]"
   ]
  },
  {
   "cell_type": "code",
   "execution_count": 33,
   "id": "17dfd915",
   "metadata": {},
   "outputs": [
    {
     "data": {
      "text/plain": [
       "{2: 'Muños',\n",
       " '1': 'Luque',\n",
       " 'dos': 'Pascacio',\n",
       " '3': 'Navarro',\n",
       " '0': 'Ramo',\n",
       " '20': 'Tenorio'}"
      ]
     },
     "execution_count": 33,
     "metadata": {},
     "output_type": "execute_result"
    }
   ],
   "source": [
    "diccionario_aula['20']=\"Tenorio\"\n",
    "diccionario_aula"
   ]
  },
  {
   "cell_type": "code",
   "execution_count": 34,
   "id": "30df710f",
   "metadata": {},
   "outputs": [
    {
     "data": {
      "text/plain": [
       "{'1': 'Luque', 'dos': 'Pascacio', '3': 'Navarro', '0': 'Ramo', '20': 'Tenorio'}"
      ]
     },
     "execution_count": 34,
     "metadata": {},
     "output_type": "execute_result"
    }
   ],
   "source": [
    "diccionario_aula.pop(2)\n",
    "diccionario_aula"
   ]
  },
  {
   "cell_type": "code",
   "execution_count": 38,
   "id": "47dd5706",
   "metadata": {},
   "outputs": [
    {
     "ename": "KeyError",
     "evalue": "'dos'",
     "output_type": "error",
     "traceback": [
      "\u001b[1;31m---------------------------------------------------------------------------\u001b[0m",
      "\u001b[1;31mKeyError\u001b[0m                                  Traceback (most recent call last)",
      "Input \u001b[1;32mIn [38]\u001b[0m, in \u001b[0;36m<cell line: 1>\u001b[1;34m()\u001b[0m\n\u001b[1;32m----> 1\u001b[0m \u001b[38;5;28;01mdel\u001b[39;00m(diccionario_aula[\u001b[38;5;124m\"\u001b[39m\u001b[38;5;124mdos\u001b[39m\u001b[38;5;124m\"\u001b[39m])\n\u001b[0;32m      2\u001b[0m diccionario_aula\n",
      "\u001b[1;31mKeyError\u001b[0m: 'dos'"
     ]
    }
   ],
   "source": [
    "del(diccionario_aula[\"dos\"])\n",
    "diccionario_aula"
   ]
  },
  {
   "cell_type": "code",
   "execution_count": null,
   "id": "3f568d6d",
   "metadata": {},
   "outputs": [],
   "source": []
  },
  {
   "cell_type": "code",
   "execution_count": 40,
   "id": "cf6462cb",
   "metadata": {},
   "outputs": [
    {
     "data": {
      "text/plain": [
       "{'1': 'Luque', '3': 'Navarro', '0': 'Ramo', '20': 'Tenorio'}"
      ]
     },
     "execution_count": 40,
     "metadata": {},
     "output_type": "execute_result"
    }
   ],
   "source": [
    "diccionario_aula"
   ]
  },
  {
   "cell_type": "code",
   "execution_count": 42,
   "id": "e1d84a56",
   "metadata": {},
   "outputs": [
    {
     "name": "stdout",
     "output_type": "stream",
     "text": [
      "1\n",
      "3\n",
      "0\n",
      "20\n"
     ]
    }
   ],
   "source": [
    "for indice in diccionario_aula:\n",
    "    print(indice)"
   ]
  },
  {
   "cell_type": "code",
   "execution_count": 49,
   "id": "6d1e0183",
   "metadata": {},
   "outputs": [
    {
     "name": "stdout",
     "output_type": "stream",
     "text": [
      "1 Luque\n",
      "3 Navarro\n",
      "0 Ramo\n",
      "20 Tenorio\n"
     ]
    }
   ],
   "source": [
    "for indice , valor in diccionario_aula.items():\n",
    "    print(indice,valor)"
   ]
  },
  {
   "cell_type": "code",
   "execution_count": 51,
   "id": "22a22967",
   "metadata": {},
   "outputs": [
    {
     "data": {
      "text/plain": [
       "('FIGUEROA',\n",
       " ' GARCIA',\n",
       " 'GUTIERREZ',\n",
       " 'ISLA',\n",
       " 'LOPEZ',\n",
       " 'LUQUE',\n",
       " 'MAMANI',\n",
       " 'MARCANI',\n",
       " 'MONDRAGON',\n",
       " 'MORENO',\n",
       " 'MUÑOZ',\n",
       " 'NAVARRO',\n",
       " 'OTAZU',\n",
       " 'PASCACIO',\n",
       " 'RAMON',\n",
       " 'TENORIO',\n",
       " 'VEGAS')"
      ]
     },
     "execution_count": 51,
     "metadata": {},
     "output_type": "execute_result"
    }
   ],
   "source": [
    "\n",
    "lista_aula=('FIGUEROA',' GARCIA', 'GUTIERREZ','ISLA' , 'LOPEZ' ,'LUQUE' ,'MAMANI' ,'MARCANI' ,'MONDRAGON' ,'MORENO' ,'MUÑOZ','NAVARRO','OTAZU','PASCACIO' ,'RAMON' ,'TENORIO','VEGAS')\n",
    "lista_aula\n"
   ]
  },
  {
   "cell_type": "code",
   "execution_count": 55,
   "id": "7abf21be",
   "metadata": {},
   "outputs": [
    {
     "name": "stdout",
     "output_type": "stream",
     "text": [
      "LUQUE está en la lista de estudiantes.\n"
     ]
    }
   ],
   "source": [
    "alumno_buscar = \"LUQUE\"\n",
    "\n",
    "# Verificar si el alumno está en la lista\n",
    "if alumno_buscar in lista_aula:\n",
    "    print(f\"{alumno_buscar} está en la lista de estudiantes.\")\n",
    "else:\n",
    "    print(f\"{alumno_buscar} no está en la lista de estudiantes.\")"
   ]
  }
 ],
 "metadata": {
  "kernelspec": {
   "display_name": "Python 3 (ipykernel)",
   "language": "python",
   "name": "python3"
  },
  "language_info": {
   "codemirror_mode": {
    "name": "ipython",
    "version": 3
   },
   "file_extension": ".py",
   "mimetype": "text/x-python",
   "name": "python",
   "nbconvert_exporter": "python",
   "pygments_lexer": "ipython3",
   "version": "3.9.12"
  }
 },
 "nbformat": 4,
 "nbformat_minor": 5
}
