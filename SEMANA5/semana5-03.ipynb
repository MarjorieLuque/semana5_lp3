{
 "cells": [
  {
   "cell_type": "code",
   "execution_count": 5,
   "id": "7455e736",
   "metadata": {},
   "outputs": [],
   "source": [
    "#metodos vacios\n",
    "def saludo():\n",
    "    print(\"Bienvenidos al urso LP3\")\n",
    "    print(\"****Python*****\")"
   ]
  },
  {
   "cell_type": "code",
   "execution_count": 6,
   "id": "2f0d4c8b",
   "metadata": {},
   "outputs": [
    {
     "name": "stdout",
     "output_type": "stream",
     "text": [
      "Bienvenidos al urso LP3\n",
      "****Python*****\n"
     ]
    }
   ],
   "source": [
    "saludo()"
   ]
  },
  {
   "cell_type": "code",
   "execution_count": 22,
   "id": "cbe4ba68",
   "metadata": {},
   "outputs": [],
   "source": [
    "def factorial(numero):\n",
    "    fac = 1\n",
    "    for i in range(1,numero+1):\n",
    "        fac*=i\n",
    "    return(f\"El factorial es : {fac}\")\n",
    "\n",
    "        "
   ]
  },
  {
   "cell_type": "code",
   "execution_count": 24,
   "id": "902ed732",
   "metadata": {},
   "outputs": [
    {
     "name": "stdout",
     "output_type": "stream",
     "text": [
      "Ingresa el numero :7\n",
      "El factorial es : 5040\n"
     ]
    }
   ],
   "source": [
    "numero=int(input(\"Ingresa el numero :\"))\n",
    "factorial(numero)"
   ]
  },
  {
   "cell_type": "code",
   "execution_count": 38,
   "id": "a3ff0d1c",
   "metadata": {},
   "outputs": [],
   "source": [
    "def factorial2(numero):\n",
    "    fac = 1\n",
    "    for i in range(1, numero + 1):\n",
    "        fac *= i\n",
    "    return fac\n",
    "\n"
   ]
  },
  {
   "cell_type": "code",
   "execution_count": 39,
   "id": "7978d6dc",
   "metadata": {},
   "outputs": [
    {
     "name": "stdout",
     "output_type": "stream",
     "text": [
      "Numero: 67\n",
      "El factorial de 67 es 36471110918188685288249859096605464427167635314049524593701628500267962436943872000000000000000\n"
     ]
    }
   ],
   "source": [
    "numero = int(input(\"Numero: \"))\n",
    "print(f\"El factorial de {numero} es {factorial2(numero)}\")\n"
   ]
  },
  {
   "cell_type": "code",
   "execution_count": 18,
   "id": "ad0f9060",
   "metadata": {},
   "outputs": [],
   "source": [
    "def obtenerig(importe):\n",
    "    return importe*0.19"
   ]
  },
  {
   "cell_type": "code",
   "execution_count": 20,
   "id": "e74b1c02",
   "metadata": {},
   "outputs": [
    {
     "data": {
      "text/plain": [
       "28.5"
      ]
     },
     "execution_count": 20,
     "metadata": {},
     "output_type": "execute_result"
    }
   ],
   "source": [
    "obtenerig(150)"
   ]
  }
 ],
 "metadata": {
  "kernelspec": {
   "display_name": "Python 3 (ipykernel)",
   "language": "python",
   "name": "python3"
  },
  "language_info": {
   "codemirror_mode": {
    "name": "ipython",
    "version": 3
   },
   "file_extension": ".py",
   "mimetype": "text/x-python",
   "name": "python",
   "nbconvert_exporter": "python",
   "pygments_lexer": "ipython3",
   "version": "3.9.12"
  }
 },
 "nbformat": 4,
 "nbformat_minor": 5
}
