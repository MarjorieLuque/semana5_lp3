{
 "cells": [
  {
   "cell_type": "markdown",
   "id": "e01b701e",
   "metadata": {},
   "source": [
    "clases y objetos"
   ]
  },
  {
   "cell_type": "code",
   "execution_count": 1,
   "id": "f65f6acf",
   "metadata": {},
   "outputs": [],
   "source": [
    "class Persona :\n",
    "    nombre =\"\"\n",
    "    apellidos =\"\"\n",
    "    dni =\"\"\n",
    "    talla =0"
   ]
  },
  {
   "cell_type": "code",
   "execution_count": 4,
   "id": "e5b92839",
   "metadata": {},
   "outputs": [
    {
     "name": "stdout",
     "output_type": "stream",
     "text": [
      "persona1\n",
      "Nombre: Marjorie\n",
      "Apellidos: Luque Cardenas\n",
      "DNI: 76417402\n",
      "Talla: 1.8\n"
     ]
    }
   ],
   "source": [
    "persona1=Persona()\n",
    "\n",
    "persona1.nombre= \"Marjorie\"\n",
    "persona1.apellidos= \"Luque Cardenas\"\n",
    "persona1.dni= \"76417402\"\n",
    "persona1.talla= 1.80\n",
    "\n",
    "print(\"persona1\")\n",
    "print(f\"Nombre: {persona1.nombre}\")\n",
    "print(f\"Apellidos: {persona1.apellidos}\")\n",
    "print(f\"DNI: {persona1.dni}\")\n",
    "print(f\"Talla: {persona1.talla}\")\n",
    "       "
   ]
  },
  {
   "cell_type": "code",
   "execution_count": null,
   "id": "896d74b4",
   "metadata": {},
   "outputs": [],
   "source": [
    "##constructores\n",
    "__init__"
   ]
  },
  {
   "cell_type": "code",
   "execution_count": 6,
   "id": "552249e5",
   "metadata": {},
   "outputs": [],
   "source": [
    "class curso:\n",
    "    def __init__(self, codigo,nombre,horas,creditos):\n",
    "        self.codigo = codigo\n",
    "        self.nombre = nombre\n",
    "        self.horas = horas\n",
    "        self.creditos = creditos\n",
    "    def mostrar_datos_curso(self):\n",
    "        print(f\"Curso: {self.nombre}\")\n",
    "        print(f\"Codigo: {self.codigo}\")\n",
    "        print(f\"Horas: {self.horas}\")\n",
    "        print(f\"Creditos: {self.creditos}\")"
   ]
  },
  {
   "cell_type": "code",
   "execution_count": 7,
   "id": "830b370d",
   "metadata": {},
   "outputs": [],
   "source": [
    "curso1=curso(\"C0501\",\"LP\",6,3)"
   ]
  },
  {
   "cell_type": "code",
   "execution_count": 8,
   "id": "ea740f34",
   "metadata": {},
   "outputs": [
    {
     "name": "stdout",
     "output_type": "stream",
     "text": [
      "Curso: LP\n",
      "Codigo: C0501\n",
      "Horas: 6\n",
      "Creditos: 3\n"
     ]
    }
   ],
   "source": [
    "curso1.mostrar_datos_curso();"
   ]
  },
  {
   "cell_type": "code",
   "execution_count": null,
   "id": "63b956d6",
   "metadata": {},
   "outputs": [],
   "source": []
  }
 ],
 "metadata": {
  "kernelspec": {
   "display_name": "Python 3 (ipykernel)",
   "language": "python",
   "name": "python3"
  },
  "language_info": {
   "codemirror_mode": {
    "name": "ipython",
    "version": 3
   },
   "file_extension": ".py",
   "mimetype": "text/x-python",
   "name": "python",
   "nbconvert_exporter": "python",
   "pygments_lexer": "ipython3",
   "version": "3.9.12"
  }
 },
 "nbformat": 4,
 "nbformat_minor": 5
}
